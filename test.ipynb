{
 "cells": [
  {
   "cell_type": "code",
   "execution_count": 1,
   "metadata": {},
   "outputs": [
    {
     "name": "stdout",
     "output_type": "stream",
     "text": [
      "ier\n"
     ]
    }
   ],
   "source": [
    "#Given a string, write a Python program to extract the last three characters from the string and print them\n",
    "\n",
    "str= \"python complier\"\n",
    "print(str[-3 :])"
   ]
  },
  {
   "cell_type": "code",
   "execution_count": 2,
   "metadata": {},
   "outputs": [
    {
     "data": {
      "text/plain": [
       "'Learning Language'"
      ]
     },
     "execution_count": 2,
     "metadata": {},
     "output_type": "execute_result"
    }
   ],
   "source": [
    "# You are given a string. Write a Python program to replace all occurrences of the character 'l' (lowercase L) with 'L' (uppercase L) and print the modified string.\n",
    "\n",
    "st=\"learning language\"\n",
    "st.replace('l','L')"
   ]
  },
  {
   "cell_type": "code",
   "execution_count": 3,
   "metadata": {},
   "outputs": [
    {
     "name": "stdout",
     "output_type": "stream",
     "text": [
      "False\n"
     ]
    }
   ],
   "source": [
    "#Write a Python program to check if a given integer is even. If the integer is even, print True; otherwise, print False.\n",
    "\n",
    "x=3453\n",
    "if x%2==0:\n",
    "    print('True')\n",
    "else:\n",
    "    print('False')"
   ]
  },
  {
   "cell_type": "code",
   "execution_count": 4,
   "metadata": {},
   "outputs": [
    {
     "name": "stdout",
     "output_type": "stream",
     "text": [
      "False\n"
     ]
    }
   ],
   "source": [
    "#Write a Python program to check if a given integer is even. If the integer is even, print True; otherwise, print False.\n",
    "\n",
    "a=2345\n",
    "if a %3==0 and a %5==0:\n",
    "    print( 'true')\n",
    "else:\n",
    "    print( \"False\")\n"
   ]
  },
  {
   "cell_type": "code",
   "execution_count": 5,
   "metadata": {},
   "outputs": [
    {
     "name": "stdout",
     "output_type": "stream",
     "text": [
      "The oranges have turned from yellow to brown,The plate of fruit contains a bunch of bananas, grapefruit, and oranges\n"
     ]
    }
   ],
   "source": [
    "#Given a string containing multiple occurrences of the word 'banana', write a Python program to replace only the first occurrence of 'banana' with 'orange' and print the modified string.\n",
    "\n",
    "name='The bananas have turned from yellow to brown,The plate of fruit contains a bunch of bananas, grapefruit, and oranges'\n",
    "rep=name.replace('banana','orange',1)\n",
    "print(rep)\n",
    "\n"
   ]
  },
  {
   "cell_type": "code",
   "execution_count": 6,
   "metadata": {},
   "outputs": [
    {
     "name": "stdout",
     "output_type": "stream",
     "text": [
      "euc distance: 76.64202502543888\n"
     ]
    }
   ],
   "source": [
    "#Given two tuples representing coordinates (x, y) of two points, write a Python program to calculate the Euclidean distance between them.\n",
    "\n",
    "import math\n",
    "\n",
    "def euc(side1,side2):\n",
    "    x1, y1 = side1\n",
    "    x2, y2 = side2\n",
    "    distance = math.sqrt((x2 - x1) + (y2 - y1)**2)\n",
    "    return distance \n",
    "\n",
    "side1 = (77, 88)\n",
    "side2 = (22, 11)\n",
    "distance = euc(side1, side2)\n",
    "print(\"euc distance:\",distance)\n",
    "    \n",
    "    \n",
    "    \n",
    "\n",
    "\n",
    "\n"
   ]
  },
  {
   "cell_type": "code",
   "execution_count": 7,
   "metadata": {},
   "outputs": [
    {
     "name": "stdout",
     "output_type": "stream",
     "text": [
      "{22}\n"
     ]
    }
   ],
   "source": [
    "#Write a Python program that takes two sets as input and returns a new set containing only the elements that are common to both sets.\n",
    "\n",
    "def common_element(set1, set2):\n",
    "    return set1.intersection(set2)\n",
    "\n",
    "set1 = {22,11,10,44,77}\n",
    "set2 = {22,33,99,55,12}\n",
    "common_set  = common_element(set1, set2)\n",
    "print(common_set)\n"
   ]
  },
  {
   "cell_type": "code",
   "execution_count": 9,
   "metadata": {},
   "outputs": [
    {
     "name": "stdout",
     "output_type": "stream",
     "text": [
      "Top Students:\n",
      "ramya\n"
     ]
    }
   ],
   "source": [
    "#You are given a dictionary containing student names as keys and their corresponding grades as values. Write a Python program to find and print the names of students who scored the highest grade.\n",
    "\n",
    "student_grades = {\n",
    "    \"sravani\": 90,\n",
    "    \"priya\": 85,\n",
    "    \"ramya\": 95,\n",
    "    \"sureka\": 88,\n",
    "    \"yamini\": 92\n",
    "}\n",
    "\n",
    "highest_grade = max(student_grades.values())\n",
    "\n",
    "top_students = [name for name, grade in student_grades.items() if grade == highest_grade]\n",
    "\n",
    "print(\"Top Students:\")\n",
    "for student in top_students:\n",
    "    print(student)\n",
    "\n",
    "\n"
   ]
  },
  {
   "cell_type": "code",
   "execution_count": 10,
   "metadata": {},
   "outputs": [
    {
     "name": "stdout",
     "output_type": "stream",
     "text": [
      "-6546 negative num\n"
     ]
    }
   ],
   "source": [
    "#Write a Python program that takes an integer input from the user and prints whether it is positive, negative, or zero.\n",
    "\n",
    "num=-6546\n",
    "if num == 0:\n",
    "   print(num,'zero')\n",
    "elif num < 0 :\n",
    "    print(num, \"negative num\")\n",
    "else:\n",
    "    print(num,\"positive num\")"
   ]
  },
  {
   "cell_type": "code",
   "execution_count": 11,
   "metadata": {},
   "outputs": [
    {
     "name": "stdout",
     "output_type": "stream",
     "text": [
      "factorial of 3 is 6\n"
     ]
    }
   ],
   "source": [
    "#Write a Python program to calculate the factorial of a given number using a while loop.\n",
    "\n",
    "def factorial(n):\n",
    "  if n < 0:\n",
    "    return \"Negative number.\"\n",
    "\n",
    "  result = 1\n",
    "\n",
    "  while n > 1:\n",
    "    result *= n\n",
    "    n-= 1\n",
    "    \n",
    "  return result\n",
    "\n",
    "number = 3\n",
    "print(\"factorial of\",number,\"is\",factorial(number))\n",
    "\n",
    "\n",
    "\n",
    "    "
   ]
  },
  {
   "cell_type": "code",
   "execution_count": 12,
   "metadata": {},
   "outputs": [
    {
     "name": "stdout",
     "output_type": "stream",
     "text": [
      "144\n",
      "196\n",
      "256\n",
      "324\n",
      "400\n"
     ]
    }
   ],
   "source": [
    "# Write a Python program that takes a list of numbers as input and prints the square of each number using a for loop.\n",
    "\n",
    "numbers=[12,14,16,18,20]\n",
    "for num in numbers:\n",
    "    print(num **2)"
   ]
  },
  {
   "cell_type": "code",
   "execution_count": 13,
   "metadata": {},
   "outputs": [
    {
     "name": "stdout",
     "output_type": "stream",
     "text": [
      "10238\n"
     ]
    }
   ],
   "source": [
    "#Write a Python function that takes two numbers as input and returns their sum.\n",
    "\n",
    "num1=3453\n",
    "num2=6785\n",
    "sum=num1+num2\n",
    "print(sum)"
   ]
  },
  {
   "cell_type": "code",
   "execution_count": 14,
   "metadata": {},
   "outputs": [
    {
     "name": "stdout",
     "output_type": "stream",
     "text": [
      "Max Height:- 897\n",
      "Min Height:- 121\n"
     ]
    }
   ],
   "source": [
    "# Given a tuple containing the heights of students, write a Python program to find and print the maximum and minimum height.\n",
    "\n",
    "height=(453,121,567,854,897)\n",
    "\n",
    "maxheight=max(height)\n",
    "minheigh=min(height)\n",
    "\n",
    "print(\"Max Height:-\",maxheight)\n",
    "print(\"Min Height:-\",minheigh)"
   ]
  },
  {
   "cell_type": "code",
   "execution_count": 15,
   "metadata": {},
   "outputs": [
    {
     "name": "stdout",
     "output_type": "stream",
     "text": [
      "Set1 is a subset of set2\n"
     ]
    }
   ],
   "source": [
    "#Write a Python program to check if a given set is a subset of another set.\n",
    "\n",
    "set1={1,2,3,4,}\n",
    "set2={8,7,6,5,4,3,2,1}\n",
    "\n",
    "if set1.issubset(set2):\n",
    "    print(\"Set1 is a subset of set2\")\n",
    "else:\n",
    "    print(\"set1 is not a subset of set2\")"
   ]
  },
  {
   "cell_type": "code",
   "execution_count": 16,
   "metadata": {},
   "outputs": [
    {
     "name": "stdout",
     "output_type": "stream",
     "text": [
      "Combined Inventory:-\n",
      "zudio: 60\n",
      "lifestyle: 50\n",
      "trends: 90\n",
      "max: 30\n"
     ]
    }
   ],
   "source": [
    "# You are given two dictionaries representing the inventory of two stores. Write a Python program to merge the inventories and print the combined inventory.\n",
    "inven1 = {'zudio': 50, 'lifestyle': 60, 'trends': 90}\n",
    "inven2 = {'lifestyle': 50, 'max': 30, 'zudio': 60}\n",
    "\n",
    "\n",
    "combined_inven = inven1.copy()\n",
    "combined_inven.update(inven2)\n",
    "\n",
    "print(\"Combined Inventory:-\")\n",
    "for item, quantity in combined_inven.items():\n",
    "    print(f\"{item}: {quantity}\")"
   ]
  }
 ],
 "metadata": {
  "kernelspec": {
   "display_name": "Python 3",
   "language": "python",
   "name": "python3"
  },
  "language_info": {
   "codemirror_mode": {
    "name": "ipython",
    "version": 3
   },
   "file_extension": ".py",
   "mimetype": "text/x-python",
   "name": "python",
   "nbconvert_exporter": "python",
   "pygments_lexer": "ipython3",
   "version": "3.12.2"
  }
 },
 "nbformat": 4,
 "nbformat_minor": 2
}
